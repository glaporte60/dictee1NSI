{
 "cells": [
  {
   "cell_type": "markdown",
   "metadata": {},
   "source": [
    "# Dictée N°1"
   ]
  },
  {
   "cell_type": "code",
   "execution_count": null,
   "metadata": {},
   "outputs": [],
   "source": [
    "Eleve=[\"ANGOT Lorenzo\",\"BELLAZAAR Ayoub\",\"BOUDIN Antoine\",\"BOUSTANE Hakim\",\"CHENEVARIN Matthéo\",\"CRUYPENNINCK Matteo\",\n",
    "       \"CZAJA Yan\",\"DESFOUR Dorian\",\"DUCROT Noa\",\"DUFOUR Thomas\",\"ELIE Mateo\",\"GRESSIER Vincent\",\"HARLEZ Gabin\",\n",
    "       \"HENRIQUES Mathéo\",\"HUANG Léo\",\"JELLOUL Léna\",\"JOURDAN Sarah\",\"LASORNE Nathan\",\"LEBON Mathéo\",\"LU Charles\",\n",
    "       \"N'DIAYE Kalilou\",\"PODEVIN Eugenie\",\"PROVENCE Jean-Baptiste\",\"PUGNANT Enzo\",\"REIGNIER HANQUEZ Julyan\",\n",
    "       \"ROMAIN Thomas\",\"SERVIERES Jules\",\"UBYCHA Andgel\"]\n",
    "\n",
    "\n",
    "for i in range(len(Eleve)):\n",
    "    print(f\"Je m'appelle\", Eleve[i],\"et je suis le\", i+1, \"élève de la classe NSI\" )\n",
    "    "
   ]
  },
  {
   "cell_type": "code",
   "execution_count": null,
   "metadata": {},
   "outputs": [],
   "source": [
    "Eleve=[\"ANGOT Lorenzo\",\"BELLAZAAR Ayoub\",\"BOUDIN Antoine\",\"BOUSTANE Hakim\",\"CHENEVARIN Matthéo\",\"CRUYPENNINCK Matteo\",\n",
    "       \"CZAJA Yan\",\"DESFOUR Dorian\",\"DUCROT Noa\",\"DUFOUR Thomas\",\"ELIE Mateo\",\"GRESSIER Vincent\",\"HARLEZ Gabin\",\n",
    "       \"HENRIQUES Mathéo\",\"HUANG Léo\",\"JELLOUL Léna\",\"JOURDAN Sarah\",\"LASORNE Nathan\",\"LEBON Mathéo\",\"LU Charles\",\n",
    "       \"N'DIAYE Kalilou\",\"PODEVIN Eugenie\",\"PROVENCE Jean-Baptiste\",\"PUGNANT Enzo\",\"REIGNIER HANQUEZ Julyan\",\n",
    "       \"ROMAIN Thomas\",\"SERVIERES Jules\",\"UBYCHA Andgel\"]\n",
    "\n",
    "j=0\n",
    "for i in Eleve:\n",
    "    j+=1\n",
    "    print(f\"Je m'appelle\", i,\"et je suis le\", j, \"élève de la classe NSI\" )\n",
    "    "
   ]
  },
  {
   "cell_type": "code",
   "execution_count": 12,
   "metadata": {},
   "outputs": [
    {
     "name": "stdout",
     "output_type": "stream",
     "text": [
      "Voici votre code: LU9VC0PW\n"
     ]
    }
   ],
   "source": [
    "import string    \n",
    "import random   \n",
    "n = 8    \n",
    "code = ''.join(random.choices(string.ascii_uppercase + string.digits, k = n))    \n",
    "print(\"Voici votre code: \" + str(code)) \n",
    "\n"
   ]
  },
  {
   "cell_type": "code",
   "execution_count": 18,
   "metadata": {},
   "outputs": [
    {
     "data": {
      "text/plain": [
       "'BAGYMLMD'"
      ]
     },
     "execution_count": 18,
     "metadata": {},
     "output_type": "execute_result"
    }
   ],
   "source": [
    "import string    \n",
    "import random   \n",
    "\n",
    "def code(longueur):\n",
    "    n = longueur    \n",
    "    code = ''.join(random.choices(string.ascii_uppercase + string.digits, k = n))    \n",
    "    \n",
    "    return code\n",
    "\n",
    "code(8)\n"
   ]
  },
  {
   "cell_type": "code",
   "execution_count": 27,
   "metadata": {},
   "outputs": [
    {
     "name": "stdout",
     "output_type": "stream",
     "text": [
      " ANGOT Lorenzo : ton code c'est -> 1Q009\n",
      " BELLAZAAR Ayoub : ton code c'est -> MWM2Q\n",
      " BOUDIN Antoine : ton code c'est -> A7MQK\n",
      " BOUSTANE Hakim : ton code c'est -> E4PBA\n",
      " CHENEVARIN Matthéo : ton code c'est -> QIXNP\n",
      " CRUYPENNINCK Matteo : ton code c'est -> SAELJ\n",
      " CZAJA Yan : ton code c'est -> DZ2P2\n",
      " DESFOUR Dorian : ton code c'est -> EBJ7H\n",
      " DUCROT Noa : ton code c'est -> WGMRD\n",
      " DUFOUR Thomas : ton code c'est -> S5JRF\n",
      " ELIE Mateo : ton code c'est -> TMQ0F\n",
      " GRESSIER Vincent : ton code c'est -> AZFXK\n",
      " HARLEZ Gabin : ton code c'est -> CL3Z1\n",
      " HENRIQUES Mathéo : ton code c'est -> WYX2N\n",
      " HUANG Léo : ton code c'est -> EIRSZ\n",
      " JELLOUL Léna : ton code c'est -> RVU6P\n",
      " JOURDAN Sarah : ton code c'est -> WX0M3\n",
      " LASORNE Nathan : ton code c'est -> C5H8D\n",
      " LEBON Mathéo : ton code c'est -> 5W744\n",
      " LU Charles : ton code c'est -> 031V2\n",
      " N'DIAYE Kalilou : ton code c'est -> 7WBRI\n",
      " PODEVIN Eugenie : ton code c'est -> H61G0\n",
      " PROVENCE Jean-Baptiste : ton code c'est -> TKKOW\n",
      " PUGNANT Enzo : ton code c'est -> E2P63\n",
      " REIGNIER HANQUEZ Julyan : ton code c'est -> 0NGH7\n",
      " ROMAIN Thomas : ton code c'est -> WNASG\n",
      " SERVIERES Jules : ton code c'est -> ZVSF2\n",
      " UBYCHA Andgel : ton code c'est -> HNQN2\n"
     ]
    }
   ],
   "source": [
    "Eleve=[\"ANGOT Lorenzo\",\"BELLAZAAR Ayoub\",\"BOUDIN Antoine\",\"BOUSTANE Hakim\",\"CHENEVARIN Matthéo\",\"CRUYPENNINCK Matteo\",\n",
    "       \"CZAJA Yan\",\"DESFOUR Dorian\",\"DUCROT Noa\",\"DUFOUR Thomas\",\"ELIE Mateo\",\"GRESSIER Vincent\",\"HARLEZ Gabin\",\n",
    "       \"HENRIQUES Mathéo\",\"HUANG Léo\",\"JELLOUL Léna\",\"JOURDAN Sarah\",\"LASORNE Nathan\",\"LEBON Mathéo\",\"LU Charles\",\n",
    "       \"N'DIAYE Kalilou\",\"PODEVIN Eugenie\",\"PROVENCE Jean-Baptiste\",\"PUGNANT Enzo\",\"REIGNIER HANQUEZ Julyan\",\n",
    "       \"ROMAIN Thomas\",\"SERVIERES Jules\",\"UBYCHA Andgel\"]\n",
    "\n",
    "\n",
    "for i in range(len(Eleve)):\n",
    "    print(f'',Eleve[i],':' , \"ton code c'est ->\", code(5) )\n",
    "    "
   ]
  },
  {
   "cell_type": "markdown",
   "metadata": {},
   "source": [
    "# Dictée N°2"
   ]
  },
  {
   "cell_type": "code",
   "execution_count": null,
   "metadata": {},
   "outputs": [],
   "source": []
  }
 ],
 "metadata": {
  "hide_input": false,
  "kernelspec": {
   "display_name": "Python 3",
   "language": "python",
   "name": "python3"
  },
  "language_info": {
   "codemirror_mode": {
    "name": "ipython",
    "version": 3
   },
   "file_extension": ".py",
   "mimetype": "text/x-python",
   "name": "python",
   "nbconvert_exporter": "python",
   "pygments_lexer": "ipython3",
   "version": "3.7.3"
  },
  "varInspector": {
   "cols": {
    "lenName": 16,
    "lenType": 16,
    "lenVar": 40
   },
   "kernels_config": {
    "python": {
     "delete_cmd_postfix": "",
     "delete_cmd_prefix": "del ",
     "library": "var_list.py",
     "varRefreshCmd": "print(var_dic_list())"
    },
    "r": {
     "delete_cmd_postfix": ") ",
     "delete_cmd_prefix": "rm(",
     "library": "var_list.r",
     "varRefreshCmd": "cat(var_dic_list()) "
    }
   },
   "types_to_exclude": [
    "module",
    "function",
    "builtin_function_or_method",
    "instance",
    "_Feature"
   ],
   "window_display": false
  }
 },
 "nbformat": 4,
 "nbformat_minor": 2
}
